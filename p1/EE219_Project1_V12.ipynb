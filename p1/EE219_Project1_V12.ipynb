{
 "cells": [
  {
   "cell_type": "markdown",
   "metadata": {
    "colab_type": "text",
    "id": "zfm2OmRoYg55"
   },
   "source": [
    "# Project1 Classification of Text Data\n",
    "### Alex Wang UID:905029621\n",
    "### Zhijie Wang UID:304946569"
   ]
  },
  {
   "cell_type": "code",
   "execution_count": null,
   "metadata": {
    "colab": {
     "autoexec": {
      "startup": false,
      "wait_interval": 0
     },
     "base_uri": "https://localhost:8080/",
     "height": 71,
     "output_extras": [
      {
       "item_id": 1
      }
     ]
    },
    "colab_type": "code",
    "collapsed": true,
    "executionInfo": {
     "elapsed": 838,
     "status": "ok",
     "timestamp": 1517201192465,
     "user": {
      "displayName": "Zhijie Wang",
      "photoUrl": "//lh5.googleusercontent.com/-kNZDUSH7O3U/AAAAAAAAAAI/AAAAAAAAN6g/5jtuCr0x820/s50-c-k-no/photo.jpg",
      "userId": "107668855014477680901"
     },
     "user_tz": 480
    },
    "id": "GHWtjANdTwbE",
    "outputId": "20595256-0b84-4f0b-8d3f-955f9434ac31"
   },
   "outputs": [],
   "source": [
    "import numpy as np\n",
    "import itertools\n",
    "import operator\n",
    "import pandas as pd\n",
    "import re\n",
    "import math\n",
    "import gc\n",
    "import string\n",
    "import matplotlib.pyplot as plt; plt.rcdefaults()\n",
    "import sklearn.linear_model as sk\n",
    "from sklearn.multiclass import OneVsOneClassifier\n",
    "from sklearn.metrics import accuracy_score\n",
    "from sklearn.multiclass import OneVsRestClassifier\n",
    "from sklearn import preprocessing, cross_validation\n",
    "from sklearn.datasets import fetch_20newsgroups\n",
    "from sklearn.feature_extraction import text\n",
    "from sklearn.metrics import confusion_matrix\n",
    "from sklearn.decomposition import NMF\n",
    "from sklearn.decomposition import TruncatedSVD\n",
    "from sklearn.feature_extraction.text import CountVectorizer, TfidfTransformer\n",
    "from sklearn import metrics\n",
    "from sklearn.naive_bayes import MultinomialNB\n",
    "from sklearn.svm import SVC\n",
    "from sklearn.svm import LinearSVC\n",
    "from sklearn.preprocessing import MinMaxScaler\n",
    "from sklearn.metrics import accuracy_score, recall_score, precision_score\n",
    "from sklearn.metrics import roc_curve,auc\n",
    "from statsmodels.discrete.discrete_model import Logit\n",
    "from nltk import SnowballStemmer\n",
    "from collections import Counter\n",
    "from collections import defaultdict\n",
    "#from sklearn.cross_validation import KFold\n",
    "from sklearn.model_selection import train_test_split\n",
    "from sklearn.model_selection import cross_validate\n",
    "#from sklearn.model_selection import KFold\n",
    "from sklearn.metrics import f1_score\n",
    "import sklearn.metrics\n",
    "import nltk\n",
    "from nltk import pos_tag\n",
    "import pickle as cPickle"
   ]
  },
  {
   "cell_type": "code",
   "execution_count": null,
   "metadata": {
    "colab": {
     "autoexec": {
      "startup": false,
      "wait_interval": 0
     }
    },
    "colab_type": "code",
    "collapsed": true,
    "id": "oMAUw3_h7VDc"
   },
   "outputs": [],
   "source": [
    "## Functions\n",
    "def roc_plot(y_test,y_score,label):\n",
    "  fpr, tpr, thresholds = roc_curve(y_test, y_score)\n",
    "  roc_auc = auc(fpr, tpr)\n",
    "\n",
    "  plt.figure()\n",
    "  lw = 2\n",
    "  plt.plot(fpr, tpr, \n",
    "           color='darkorange',lw=lw, \n",
    "           label=label  % roc_auc)\n",
    "  plt.plot([0, 1], [0, 1], color='navy', lw=lw, linestyle='--')\n",
    "  plt.xlim([-0.1, 1.0])\n",
    "  plt.ylim([0.0, 1.05])\n",
    "  plt.xlabel('False Positive Rate',fontsize=15)\n",
    "  plt.ylabel('True Positive Rate',fontsize=15)\n",
    "  plt.title('Receiver Operating Characteristic (ROC)')\n",
    "  plt.legend(loc=\"lower right\")\n",
    "  plt.show()\n",
    "  return\n",
    "\n",
    "def stats(true, predicted,classes,title):\n",
    "    print(\"===========\"+title+\"===========\")\n",
    "    print(metrics.classification_report(true, predicted,target_names=classes))\n",
    "    print(\"accuracy: \" + str(np.mean(predicted == true)))\n",
    "    return 1\n",
    "  \n",
    "def plot_confusion_matrix(cm, classes,\n",
    "                          normalize=False,\n",
    "                          title='Confusion matrix',\n",
    "                          cmap=plt.cm.Blues):\n",
    "    \"\"\"\n",
    "    This function prints and plots the confusion matrix.\n",
    "    Normalization can be applied by setting `normalize=True`.\n",
    "    \"\"\"\n",
    "    if normalize:\n",
    "        cm = cm.astype('float') / cm.sum(axis=1)[:, np.newaxis]\n",
    "        print(\"Normalized confusion matrix\")\n",
    "    else:\n",
    "        print('Confusion matrix, without normalization')\n",
    "\n",
    "    print(cm)\n",
    "\n",
    "    plt.imshow(cm, interpolation='nearest', cmap=cmap)\n",
    "    plt.title(title)\n",
    "    plt.colorbar()\n",
    "    tick_marks = np.arange(len(classes))\n",
    "    plt.xticks(tick_marks, classes, rotation=45)\n",
    "    plt.yticks(tick_marks, classes)\n",
    "\n",
    "    fmt = '.4f' if normalize else 'd'\n",
    "    thresh = cm.max() / 4.\n",
    "    for i, j in itertools.product(range(cm.shape[0]), range(cm.shape[1])):\n",
    "        plt.text(j, i, format(cm[i, j], fmt),\n",
    "                 horizontalalignment=\"center\",\n",
    "                 color=\"white\" if cm[i, j] > thresh else \"black\")\n",
    "\n",
    "    plt.tight_layout()\n",
    "    plt.ylabel('True label')\n",
    "    plt.xlabel('Predicted label')"
   ]
  },
  {
   "cell_type": "code",
   "execution_count": null,
   "metadata": {
    "colab": {
     "autoexec": {
      "startup": false,
      "wait_interval": 0
     },
     "base_uri": "https://localhost:8080/",
     "height": 51,
     "output_extras": [
      {
       "item_id": 1
      }
     ]
    },
    "colab_type": "code",
    "collapsed": true,
    "executionInfo": {
     "elapsed": 22895,
     "status": "ok",
     "timestamp": 1517201217094,
     "user": {
      "displayName": "Zhijie Wang",
      "photoUrl": "//lh5.googleusercontent.com/-kNZDUSH7O3U/AAAAAAAAAAI/AAAAAAAAN6g/5jtuCr0x820/s50-c-k-no/photo.jpg",
      "userId": "107668855014477680901"
     },
     "user_tz": 480
    },
    "id": "jSobse371WMB",
    "outputId": "fb9b2a7d-3f45-4e5a-cb08-00027853057b"
   },
   "outputs": [],
   "source": [
    "cats_eight =['rec.autos','rec.motorcycles','rec.sport.baseball','rec.sport.hockey',\n",
    "             'comp.graphics','comp.os.ms-windows.misc','comp.sys.ibm.pc.hardware','comp.sys.mac.hardware']\n",
    "classes = ['Computer technology', 'Recreational activity']\n",
    "class_comp = ['comp.graphics','comp.os.ms-windows.misc','comp.sys.ibm.pc.hardware','comp.sys.mac.hardware']\n",
    "class_rec = ['rec.autos','rec.motorcycles','rec.sport.baseball','rec.sport.hockey']\n",
    "eight_train = fetch_20newsgroups(subset='train', categories=cats_eight, shuffle=True, random_state=42,remove=('headers','footers','quotes'))\n",
    "eight_test = fetch_20newsgroups(subset='test', categories=cats_eight, shuffle=True, random_state=42,remove=('headers','footers','quotes'))"
   ]
  },
  {
   "cell_type": "markdown",
   "metadata": {
    "colab_type": "text",
    "id": "q3MnI1YzT6y9"
   },
   "source": [
    "# Problem (A) Plot Balance of Data"
   ]
  },
  {
   "cell_type": "code",
   "execution_count": null,
   "metadata": {
    "colab": {
     "autoexec": {
      "startup": false,
      "wait_interval": 0
     }
    },
    "colab_type": "code",
    "collapsed": true,
    "id": "RBm6H1miYPwp"
   },
   "outputs": [],
   "source": [
    "value_eight = []\n",
    "value_comp = 0\n",
    "value_rec = 0\n",
    "biclass =[]\n",
    "for category in cats_eight:\n",
    "    cat = [category]\n",
    "    subclass = fetch_20newsgroups(subset='train', categories=cat, shuffle=True, random_state=42)\n",
    "    length_eight = (len(subclass.data))\n",
    "    value_eight.append(length_eight)\n",
    "    \n",
    "for category in class_comp:\n",
    "    comp_cat = [category]\n",
    "    comp_subclass = fetch_20newsgroups(subset='train', categories=comp_cat, shuffle=True, random_state=42)\n",
    "    length_comp = (len(comp_subclass.data))\n",
    "    value_comp += (length_comp)\n",
    "\n",
    "biclass.append(value_comp)\n",
    "\n",
    "for category in class_rec:\n",
    "    rec_cat = [category]\n",
    "    rec_subclass = fetch_20newsgroups(subset='train', categories=rec_cat, shuffle=True, random_state=42)\n",
    "    length_rec = (len(rec_subclass.data))\n",
    "    value_rec += (length_rec)\n",
    "biclass.append(value_rec)"
   ]
  },
  {
   "cell_type": "code",
   "execution_count": null,
   "metadata": {
    "colab": {
     "autoexec": {
      "startup": false,
      "wait_interval": 0
     },
     "base_uri": "https://localhost:8080/",
     "height": 927,
     "output_extras": [
      {
       "item_id": 1
      },
      {
       "item_id": 2
      }
     ]
    },
    "colab_type": "code",
    "collapsed": true,
    "executionInfo": {
     "elapsed": 929,
     "status": "ok",
     "timestamp": 1517201222615,
     "user": {
      "displayName": "Zhijie Wang",
      "photoUrl": "//lh5.googleusercontent.com/-kNZDUSH7O3U/AAAAAAAAAAI/AAAAAAAAN6g/5jtuCr0x820/s50-c-k-no/photo.jpg",
      "userId": "107668855014477680901"
     },
     "user_tz": 480
    },
    "id": "IDM7Po3EYPyq",
    "outputId": "0529ea26-4c3a-405a-afdf-f837ad07abce"
   },
   "outputs": [],
   "source": [
    "index = np.arange(2)\n",
    "bar_width = 0.7\n",
    "bars = plt.barh(index, biclass, bar_width)\n",
    "plt.xlabel(\"# Documents\")\n",
    "plt.ylabel('Classes')\n",
    "plt.title('# Documents/Class')\n",
    "plt.yticks(index + bar_width/2, ('Computer technology', 'Recreational activity'))\n",
    "plt.grid(True)\n",
    "plt.show()\n",
    "\n",
    "index = np.arange(8)\n",
    "bar_width = 0.7\n",
    "bars = plt.barh(index, value_eight, bar_width)\n",
    "plt.xlabel(\"# Documents\")\n",
    "plt.ylabel('Subclasses')\n",
    "plt.title('# Documents/Subclass')\n",
    "plt.yticks(index + bar_width/2, ('comp.graphics', 'comp.os.ms-windows.misc', 'comp.sys.ibm.pc.hardware', \n",
    "                                 'comp.sys.mac.hardware', 'rec.autos', 'rec.motorcycles', 'rec.sport.baseball', 'rec.sport.hockey'))\n",
    "plt.grid(True)\n",
    "plt.show()"
   ]
  },
  {
   "cell_type": "markdown",
   "metadata": {
    "colab_type": "text",
    "id": "IconzlP7ZQi3"
   },
   "source": [
    "# Problem (B) Text Vectorization"
   ]
  },
  {
   "cell_type": "code",
   "execution_count": null,
   "metadata": {
    "colab": {
     "autoexec": {
      "startup": false,
      "wait_interval": 0
     }
    },
    "colab_type": "code",
    "collapsed": true,
    "id": "nSXwnI_AR7vY"
   },
   "outputs": [],
   "source": [
    "# This is the stemming and lemmatize portion extracted from the TA discussion\n",
    "wnl = nltk.wordnet.WordNetLemmatizer()\n",
    "stop_words_skt = text.ENGLISH_STOP_WORDS\n",
    "from nltk.corpus import stopwords\n",
    "#nltk.download('stopwords' )\n",
    "stop_words_en = stopwords.words('english')\n",
    "combined_stopwords = set.union(set(stop_words_en),set(string.punctuation),set(stop_words_skt))\n",
    "def penn2morphy(penntag):\n",
    "    \"\"\" Converts Penn Treebank tags to WordNet. \"\"\"\n",
    "    morphy_tag = {'NN':'n', 'JJ':'a',\n",
    "                  'VB':'v', 'RB':'r'}\n",
    "    try:\n",
    "        return morphy_tag[penntag[:2]]\n",
    "    except:\n",
    "        return 'n'\n",
    "\n",
    "def lemmatize_sent(list_word): \n",
    "    # Text input is string, returns array of lowercased strings(words).\n",
    "    return [wnl.lemmatize(word.lower(), pos=penn2morphy(tag)) \n",
    "            for word, tag in pos_tag(list_word)]\n",
    "\n",
    "analyzer = CountVectorizer().build_analyzer()\n",
    "def stemmed_words(doc):\n",
    "    return (stemmer.stem(w) for w in analyzer(doc))\n",
    "def stem_rmv_punc(doc):\n",
    "    return (word for word in lemmatize_sent(analyzer(doc)) if word not in combined_stopwords and not word.isdigit())"
   ]
  },
  {
   "cell_type": "code",
   "execution_count": null,
   "metadata": {
    "colab": {
     "autoexec": {
      "startup": false,
      "wait_interval": 0
     },
     "base_uri": "https://localhost:8080/",
     "height": 1201,
     "output_extras": [
      {
       "item_id": 1
      }
     ]
    },
    "colab_type": "code",
    "collapsed": true,
    "executionInfo": {
     "elapsed": 494,
     "status": "error",
     "timestamp": 1517201229042,
     "user": {
      "displayName": "Zhijie Wang",
      "photoUrl": "//lh5.googleusercontent.com/-kNZDUSH7O3U/AAAAAAAAAAI/AAAAAAAAN6g/5jtuCr0x820/s50-c-k-no/photo.jpg",
      "userId": "107668855014477680901"
     },
     "user_tz": 480
    },
    "id": "okhhYwqHSktT",
    "outputId": "fbe9acf2-3ff4-4324-d239-2df9a1279596"
   },
   "outputs": [],
   "source": [
    "min_dfs = [2,5]\n",
    "for min_df in min_dfs:\n",
    "    data_vec = CountVectorizer(min_df=min_df,analyzer=stem_rmv_punc)\n",
    "    X_train_tfidf = data_vec.fit_transform(eight_train.data)\n",
    "    print (X_train_tfidf.shape)"
   ]
  },
  {
   "cell_type": "code",
   "execution_count": null,
   "metadata": {
    "collapsed": true
   },
   "outputs": [],
   "source": [
    "data_vec = CountVectorizer(min_df=2,analyzer=stem_rmv_punc)\n",
    "#data_vec = CountVectorizer(min_df=5,analyzer=stem_rmv_punc)\n",
    "train_counts = data_vec.fit_transform(eight_train.data)\n",
    "\n",
    "tfidf_transformer = TfidfTransformer(smooth_idf=False)\n",
    "X_train_tfidf = tfidf_transformer.fit_transform(train_counts)\n",
    "#print(\"Dimensions of TF-IDF vector: \"+ str(X_train_tfidf.shape))"
   ]
  },
  {
   "cell_type": "markdown",
   "metadata": {
    "colab_type": "text",
    "id": "WrZziFXzWt-M"
   },
   "source": [
    "# Problem (C) Find the 10 Most Frequenct Terms\n"
   ]
  },
  {
   "cell_type": "code",
   "execution_count": null,
   "metadata": {
    "colab": {
     "autoexec": {
      "startup": false,
      "wait_interval": 0
     },
     "base_uri": "https://localhost:8080/",
     "height": 34,
     "output_extras": [
      {
       "item_id": 1
      }
     ]
    },
    "colab_type": "code",
    "collapsed": true,
    "executionInfo": {
     "elapsed": 68602,
     "status": "ok",
     "timestamp": 1517156562445,
     "user": {
      "displayName": "Zhijie Wang",
      "photoUrl": "//lh5.googleusercontent.com/-kNZDUSH7O3U/AAAAAAAAAAI/AAAAAAAAN6g/5jtuCr0x820/s50-c-k-no/photo.jpg",
      "userId": "107668855014477680901"
     },
     "user_tz": 480
    },
    "id": "lNu01PCOVqVd",
    "outputId": "cb1f00d7-00cc-4e93-ac4f-c666e7b9fa16"
   },
   "outputs": [],
   "source": [
    "twenty_classes = ['comp.graphics',\n",
    "                  'comp.os.ms-windows.misc',\n",
    "                  'comp.sys.ibm.pc.hardware',\n",
    "                  'comp.sys.mac.hardware',\n",
    "                  'comp.windows.x',\n",
    "                  'rec.autos',\n",
    "                  'rec.motorcycles',\n",
    "                  'rec.sport.baseball',\n",
    "                  'rec.sport.hockey',\n",
    "                  'alt.atheism',\n",
    "                  'sci.crypt',\n",
    "                  'sci.electronics',\n",
    "                  'sci.med',\n",
    "                  'sci.space',\n",
    "                  'soc.religion.christian',\n",
    "                  'misc.forsale',\n",
    "                  'talk.politics.guns',\n",
    "                  'talk.politics.mideast',\n",
    "                  'talk.politics.misc',\n",
    "                  'talk.religion.misc'\n",
    "                ]\n",
    "stop_words = text.ENGLISH_STOP_WORDS\n",
    "docs_in_single_class = []\n",
    "# flatten the documents in each category into ONE document in each category\n",
    "for docClass in twenty_classes:\n",
    "    class_data = fetch_20newsgroups(subset='train',categories=[docClass]).data\n",
    "    temp = \" \".join(class_data)\n",
    "    docs_in_single_class.append(temp)\n",
    "    \n",
    "class_Vec = CountVectorizer(min_df=2,analyzer=stem_rmv_punc)\n",
    "#class_Vec = CountVectorizer(min_df=5,analyzer=stem_rmv_punc)\n",
    "class_Vec_train = class_Vec.fit_transform(docs_in_single_class)\n",
    "class_Vec_train.shape"
   ]
  },
  {
   "cell_type": "code",
   "execution_count": null,
   "metadata": {
    "colab": {
     "autoexec": {
      "startup": false,
      "wait_interval": 0
     },
     "base_uri": "https://localhost:8080/",
     "height": 833,
     "output_extras": [
      {
       "item_id": 1
      }
     ]
    },
    "colab_type": "code",
    "collapsed": true,
    "executionInfo": {
     "elapsed": 435,
     "status": "ok",
     "timestamp": 1517156563157,
     "user": {
      "displayName": "Zhijie Wang",
      "photoUrl": "//lh5.googleusercontent.com/-kNZDUSH7O3U/AAAAAAAAAAI/AAAAAAAAN6g/5jtuCr0x820/s50-c-k-no/photo.jpg",
      "userId": "107668855014477680901"
     },
     "user_tz": 480
    },
    "id": "-tt69V98WTTU",
    "outputId": "57084a44-2c33-4f8f-cc65-f7c2d384018b"
   },
   "outputs": [],
   "source": [
    "\n",
    "tfidf_transformer = TfidfTransformer(smooth_idf=False)\n",
    "tficf_class_train = tfidf_transformer.fit_transform(class_Vec_train)\n",
    "#tficf_class_train_copy = tficf_class_train.copy()\n",
    "features = class_Vec.get_feature_names()\n",
    "from scipy.sparse import csr_matrix\n",
    "\n",
    "for i in [2, 3, 14, 15]:\n",
    "    row = tficf_class_train.getrow(i).toarray()[0].ravel()\n",
    "    top_ten_indicies = row.argsort()[::-1][:10]\n",
    "    print(twenty_classes[i])\n",
    "    print(''.join('{}, '.format(features[a]) for a in top_ten_indicies))\n",
    "    print('\\n')\n"
   ]
  },
  {
   "cell_type": "markdown",
   "metadata": {
    "colab_type": "text",
    "id": "GjsHUTKoW5LQ"
   },
   "source": [
    "# Problem (D) SVD & NMF"
   ]
  },
  {
   "cell_type": "code",
   "execution_count": null,
   "metadata": {
    "colab": {
     "autoexec": {
      "startup": false,
      "wait_interval": 0
     }
    },
    "colab_type": "code",
    "collapsed": true,
    "id": "Vas6duc7fu5_"
   },
   "outputs": [],
   "source": [
    "#SVD\n",
    "svd = TruncatedSVD(n_components=50)\n",
    "train_lsi = svd.fit_transform(X_train_tfidf)\n",
    "\n",
    "#NMF\n",
    "modleNMF = NMF(n_components=50)\n",
    "train_NMF = modleNMF.fit_transform(X_train_tfidf)"
   ]
  },
  {
   "cell_type": "markdown",
   "metadata": {
    "colab_type": "text",
    "id": "gqQEj7FOlPkc"
   },
   "source": [
    "## Construct Train and Test Set"
   ]
  },
  {
   "cell_type": "code",
   "execution_count": null,
   "metadata": {
    "colab": {
     "autoexec": {
      "startup": false,
      "wait_interval": 0
     },
     "base_uri": "https://localhost:8080/",
     "height": 122,
     "output_extras": [
      {
       "item_id": 1
      },
      {
       "item_id": 2
      }
     ]
    },
    "colab_type": "code",
    "collapsed": true,
    "executionInfo": {
     "elapsed": 9813,
     "status": "ok",
     "timestamp": 1517184148610,
     "user": {
      "displayName": "Zhijie Wang",
      "photoUrl": "//lh5.googleusercontent.com/-kNZDUSH7O3U/AAAAAAAAAAI/AAAAAAAAN6g/5jtuCr0x820/s50-c-k-no/photo.jpg",
      "userId": "107668855014477680901"
     },
     "user_tz": 480
    },
    "id": "JCAwH8SjlRXv",
    "outputId": "c5de391b-9400-4060-bbc2-35035a2d42cc"
   },
   "outputs": [],
   "source": [
    "test_label = (eight_test.target[:]>=4)\n",
    "train_label = (eight_train.target[:]>=4)\n",
    "\n",
    "test_counts = data_vec.transform(eight_test.data)\n",
    "test_tfidf = tfidf_transformer.fit_transform(test_counts)\n",
    "test_lsi = svd.transform(test_tfidf)\n",
    "test_NMF = modleNMF.transform(test_tfidf)"
   ]
  },
  {
   "cell_type": "markdown",
   "metadata": {
    "colab_type": "text",
    "id": "g5cfhCiaP658"
   },
   "source": [
    "# Problem (E) Support Vector Machine Classifier"
   ]
  },
  {
   "cell_type": "markdown",
   "metadata": {
    "colab_type": "text",
    "id": "AgG52Em1RDg4"
   },
   "source": [
    "## Hard-margin SVM"
   ]
  },
  {
   "cell_type": "markdown",
   "metadata": {
    "colab_type": "text",
    "id": "DAITEaqr-MuJ"
   },
   "source": [
    "**(1) LSI Method**"
   ]
  },
  {
   "cell_type": "code",
   "execution_count": null,
   "metadata": {
    "colab": {
     "autoexec": {
      "startup": false,
      "wait_interval": 0
     }
    },
    "colab_type": "code",
    "collapsed": true,
    "id": "_wWdJ0IpAVrW"
   },
   "outputs": [],
   "source": [
    "# Training\n",
    "clf = SVC(C=1000,kernel='linear')\n",
    "clf.fit(train_lsi, train_label)\n",
    "predicted_lsi = clf.predict(test_lsi)"
   ]
  },
  {
   "cell_type": "code",
   "execution_count": null,
   "metadata": {
    "colab": {
     "autoexec": {
      "startup": false,
      "wait_interval": 0
     },
     "base_uri": "https://localhost:8080/",
     "height": 1782,
     "output_extras": [
      {
       "item_id": 1
      },
      {
       "item_id": 2
      },
      {
       "item_id": 3
      },
      {
       "item_id": 4
      },
      {
       "item_id": 5
      }
     ]
    },
    "colab_type": "code",
    "collapsed": true,
    "executionInfo": {
     "elapsed": 1016,
     "status": "ok",
     "timestamp": 1517185196214,
     "user": {
      "displayName": "Zhijie Wang",
      "photoUrl": "//lh5.googleusercontent.com/-kNZDUSH7O3U/AAAAAAAAAAI/AAAAAAAAN6g/5jtuCr0x820/s50-c-k-no/photo.jpg",
      "userId": "107668855014477680901"
     },
     "user_tz": 480
    },
    "id": "jnJgQg64g-mA",
    "outputId": "ce69573b-d60a-43c3-9c8a-f9324a205873",
    "scrolled": true
   },
   "outputs": [],
   "source": [
    "#roc\n",
    "label = 'ROC curve for SVC   (area = %0.2f)'\n",
    "predicted_score = clf.decision_function(test_lsi)\n",
    "roc_plot(test_label,predicted_score,label)\n",
    "\n",
    "#stats\n",
    "stats(test_label,predicted_lsi,classes,\"SVM\")\n",
    "\n",
    "#confusion matrix\n",
    "cnf_matrix = confusion_matrix(test_label, predicted_lsi)\n",
    "np.set_printoptions(precision=4)\n",
    "\n",
    "# Plot non-normalized confusion matrix\n",
    "print('\\n====================================\\n')\n",
    "plt.figure()\n",
    "plot_confusion_matrix(cnf_matrix, classes=classes,\n",
    "                      title='Confusion Matrix, without Normalization')\n",
    "plt.show()\n",
    "\n",
    "plt.figure()\n",
    "plot_confusion_matrix(cnf_matrix, classes=classes,normalize=True,\n",
    "                      title='Confusion Matrix, with Normalization')\n",
    "plt.show()"
   ]
  },
  {
   "cell_type": "markdown",
   "metadata": {
    "colab_type": "text",
    "id": "Mpzx5JyO-pit"
   },
   "source": [
    "**(2) NMF Method**"
   ]
  },
  {
   "cell_type": "code",
   "execution_count": null,
   "metadata": {
    "colab": {
     "autoexec": {
      "startup": false,
      "wait_interval": 0
     }
    },
    "colab_type": "code",
    "collapsed": true,
    "id": "BcgIQHUm-ot_"
   },
   "outputs": [],
   "source": [
    "# Training\n",
    "clf = SVC(C=1000,kernel='linear')\n",
    "clf.fit(train_NMF, train_label)\n",
    "predicted_NMF = clf.predict(test_NMF)"
   ]
  },
  {
   "cell_type": "code",
   "execution_count": null,
   "metadata": {
    "colab": {
     "autoexec": {
      "startup": false,
      "wait_interval": 0
     },
     "base_uri": "https://localhost:8080/",
     "height": 1725,
     "output_extras": [
      {
       "item_id": 1
      },
      {
       "item_id": 2
      },
      {
       "item_id": 3
      },
      {
       "item_id": 4
      },
      {
       "item_id": 5
      }
     ]
    },
    "colab_type": "code",
    "collapsed": true,
    "executionInfo": {
     "elapsed": 1109,
     "status": "ok",
     "timestamp": 1517184177901,
     "user": {
      "displayName": "Zhijie Wang",
      "photoUrl": "//lh5.googleusercontent.com/-kNZDUSH7O3U/AAAAAAAAAAI/AAAAAAAAN6g/5jtuCr0x820/s50-c-k-no/photo.jpg",
      "userId": "107668855014477680901"
     },
     "user_tz": 480
    },
    "id": "BwW-aDnChOuY",
    "outputId": "6ae31075-afdd-4569-cb16-fa66972105e7",
    "scrolled": true
   },
   "outputs": [],
   "source": [
    "#roc\n",
    "label = 'ROC curve for SVC   (area = %0.2f)'\n",
    "predicted_score = clf.decision_function(test_NMF)\n",
    "roc_plot(test_label,predicted_score,label)\n",
    "\n",
    "#stats\n",
    "stats(test_label,predicted_NMF,classes,\"SVM\")\n",
    "\n",
    "#confusion matrix\n",
    "cnf_matrix = confusion_matrix(test_label, predicted_NMF)\n",
    "np.set_printoptions(precision=4)\n",
    "\n",
    "# Plot non-normalized confusion matrix\n",
    "plt.figure()\n",
    "plot_confusion_matrix(cnf_matrix, classes=classes,\n",
    "                      title='Confusion matrix, without normalization')\n",
    "plt.show()\n",
    "\n",
    "plt.figure()\n",
    "plot_confusion_matrix(cnf_matrix, classes=classes,normalize=True,\n",
    "                      title='Confusion matrix, without normalization')\n",
    "plt.show()"
   ]
  },
  {
   "cell_type": "code",
   "execution_count": null,
   "metadata": {
    "colab": {
     "autoexec": {
      "startup": false,
      "wait_interval": 0
     },
     "base_uri": "https://localhost:8080/",
     "height": 54,
     "output_extras": [
      {
       "item_id": 1
      }
     ]
    },
    "colab_type": "code",
    "collapsed": true,
    "executionInfo": {
     "elapsed": 356,
     "status": "ok",
     "timestamp": 1517156589255,
     "user": {
      "displayName": "Zhijie Wang",
      "photoUrl": "//lh5.googleusercontent.com/-kNZDUSH7O3U/AAAAAAAAAAI/AAAAAAAAN6g/5jtuCr0x820/s50-c-k-no/photo.jpg",
      "userId": "107668855014477680901"
     },
     "user_tz": 480
    },
    "id": "zxSVwilKd0lk",
    "outputId": "17ff9e33-a238-4eb1-a559-04c3f08b5ab9"
   },
   "outputs": [],
   "source": [
    "predicted_lsi=predicted_NMP=[]\n",
    "gc.collect()"
   ]
  },
  {
   "cell_type": "markdown",
   "metadata": {
    "colab_type": "text",
    "id": "2HuJYhKpdnNW"
   },
   "source": [
    "## Soft-margin SVM"
   ]
  },
  {
   "cell_type": "code",
   "execution_count": null,
   "metadata": {
    "colab": {
     "autoexec": {
      "startup": false,
      "wait_interval": 0
     }
    },
    "colab_type": "code",
    "collapsed": true,
    "id": "WOp4qD7Jdpq0"
   },
   "outputs": [],
   "source": [
    "clf = SVC(C=0.001,kernel='linear')\n",
    "clf.fit(train_lsi, train_label)\n",
    "predicted_lsi = clf.predict(test_lsi)\n",
    "classes = ['Computer technology', 'Recreational activity']"
   ]
  },
  {
   "cell_type": "code",
   "execution_count": null,
   "metadata": {
    "colab": {
     "autoexec": {
      "startup": false,
      "wait_interval": 0
     },
     "base_uri": "https://localhost:8080/",
     "height": 1759,
     "output_extras": [
      {
       "item_id": 1
      },
      {
       "item_id": 2
      },
      {
       "item_id": 3
      },
      {
       "item_id": 4
      },
      {
       "item_id": 5
      },
      {
       "item_id": 6
      }
     ]
    },
    "colab_type": "code",
    "collapsed": true,
    "executionInfo": {
     "elapsed": 935,
     "status": "ok",
     "timestamp": 1517184190307,
     "user": {
      "displayName": "Zhijie Wang",
      "photoUrl": "//lh5.googleusercontent.com/-kNZDUSH7O3U/AAAAAAAAAAI/AAAAAAAAN6g/5jtuCr0x820/s50-c-k-no/photo.jpg",
      "userId": "107668855014477680901"
     },
     "user_tz": 480
    },
    "id": "AT25yfc-k8tH",
    "outputId": "3c7a8979-4441-4f3e-deff-949e268c4bd2"
   },
   "outputs": [],
   "source": [
    "#roc\n",
    "label = 'ROC curve for SVC   (area = %0.2f)'\n",
    "predicted_score = clf.decision_function(test_lsi)\n",
    "roc_plot(test_label,predicted_score,label)\n",
    "\n",
    "#stats\n",
    "stats(test_label,predicted_lsi,classes,\"SVM\")\n",
    "\n",
    "#confusion matrix\n",
    "cnf_matrix = confusion_matrix(test_label, predicted_lsi)\n",
    "np.set_printoptions(precision=4)\n",
    "\n",
    "# Plot non-normalized confusion matrix\n",
    "plt.figure()\n",
    "plot_confusion_matrix(cnf_matrix, classes=classes,\n",
    "                      title='Confusion matrix, without normalization')\n",
    "plt.show()\n",
    "\n",
    "plt.figure()\n",
    "plot_confusion_matrix(cnf_matrix, classes=classes,normalize=True,\n",
    "                      title='Confusion matrix, without normalization')\n",
    "plt.show()"
   ]
  },
  {
   "cell_type": "markdown",
   "metadata": {
    "colab_type": "text",
    "id": "Ngp2SS7mRupw"
   },
   "source": [
    "# Problem(F) Find best gamma"
   ]
  },
  {
   "cell_type": "code",
   "execution_count": null,
   "metadata": {
    "colab": {
     "autoexec": {
      "startup": false,
      "wait_interval": 0
     },
     "base_uri": "https://localhost:8080/",
     "height": 377,
     "output_extras": [
      {
       "item_id": 8
      }
     ]
    },
    "colab_type": "code",
    "collapsed": true,
    "executionInfo": {
     "elapsed": 34570,
     "status": "ok",
     "timestamp": 1517156787296,
     "user": {
      "displayName": "Zhijie Wang",
      "photoUrl": "//lh5.googleusercontent.com/-kNZDUSH7O3U/AAAAAAAAAAI/AAAAAAAAN6g/5jtuCr0x820/s50-c-k-no/photo.jpg",
      "userId": "107668855014477680901"
     },
     "user_tz": 480
    },
    "id": "b18rxzUkRVI2",
    "outputId": "30367387-a328-4678-8895-c3a74f156706"
   },
   "outputs": [],
   "source": [
    "f1=[]\n",
    "temp = pd.DataFrame()\n",
    "gamma_range = [10 ** i for i in range(-3,4)]\n",
    "scoring = ['f1']\n",
    "for test_gamma in gamma_range:\n",
    "    find_SVM = SVC(C=test_gamma,kernel='linear')\n",
    "    # 5-fold cross-validation\n",
    "    scores = cross_validate(find_SVM, train_lsi, train_label,\n",
    "                            scoring=scoring,cv=5,return_train_score=False)\n",
    "    temp['f1'] = scores['test_f1']\n",
    "    # record the 5 f1 scores with the same gamma value, and average them\n",
    "    mean = temp['f1'].mean()\n",
    "    f1.append(mean)\n",
    "\n",
    "df = pd.DataFrame()\n",
    "df['gamma'] = gamma_range\n",
    "df['f1'] = f1\n",
    "df"
   ]
  },
  {
   "cell_type": "code",
   "execution_count": null,
   "metadata": {
    "colab": {
     "autoexec": {
      "startup": false,
      "wait_interval": 0
     },
     "base_uri": "https://localhost:8080/",
     "height": 34,
     "output_extras": [
      {
       "item_id": 1
      }
     ]
    },
    "colab_type": "code",
    "collapsed": true,
    "executionInfo": {
     "elapsed": 270,
     "status": "ok",
     "timestamp": 1517156822967,
     "user": {
      "displayName": "Zhijie Wang",
      "photoUrl": "//lh5.googleusercontent.com/-kNZDUSH7O3U/AAAAAAAAAAI/AAAAAAAAN6g/5jtuCr0x820/s50-c-k-no/photo.jpg",
      "userId": "107668855014477680901"
     },
     "user_tz": 480
    },
    "id": "-2_TAIYDbBjS",
    "outputId": "583313b7-6116-4da6-daf5-359ad5b2c662"
   },
   "outputs": [],
   "source": [
    "print('The value of gamma with the highest F1 score is {0}'.format(df['gamma'][df['f1'].idxmax()]))"
   ]
  },
  {
   "cell_type": "code",
   "execution_count": null,
   "metadata": {
    "colab": {
     "autoexec": {
      "startup": false,
      "wait_interval": 0
     },
     "base_uri": "https://localhost:8080/",
     "height": 1165,
     "output_extras": [
      {
       "item_id": 1
      },
      {
       "item_id": 2
      },
      {
       "item_id": 3
      }
     ]
    },
    "colab_type": "code",
    "collapsed": true,
    "executionInfo": {
     "elapsed": 1848,
     "status": "ok",
     "timestamp": 1517156825125,
     "user": {
      "displayName": "Zhijie Wang",
      "photoUrl": "//lh5.googleusercontent.com/-kNZDUSH7O3U/AAAAAAAAAAI/AAAAAAAAN6g/5jtuCr0x820/s50-c-k-no/photo.jpg",
      "userId": "107668855014477680901"
     },
     "user_tz": 480
    },
    "id": "X9fSnNKsGUJt",
    "outputId": "4c33f907-787a-4aa3-d064-e0ff6b846795"
   },
   "outputs": [],
   "source": [
    "find_SVM = SVC(C=1000, kernel='linear')\n",
    "find_SVM.fit(train_lsi, train_label)\n",
    "#find_SVM.fit(train_NMF, train_label)\n",
    "predicted_label = find_SVM.predict(test_lsi)\n",
    "#predicted_label = find_SVM.predict(test_NMF)\n",
    "classes = ['Computer technology', 'Recreational activity']\n",
    "\n",
    "#stats\n",
    "stats(test_label,predicted_label,classes,\"SVM － LSI\")\n",
    "#stats(test_label,predicted_label,classes,\"SVM － NMF\")\n",
    "\n",
    "#confusion matrix\n",
    "cnf_matrix = confusion_matrix(test_label, predicted_label)\n",
    "np.set_printoptions(precision=4)\n",
    "\n",
    "# Plot non-normalized confusion matrix\n",
    "plt.figure()\n",
    "plot_confusion_matrix(cnf_matrix, classes=classes,normalize=False,\n",
    "                      title='Confusion matrix with best Gamma')\n",
    "plt.show()\n"
   ]
  },
  {
   "cell_type": "code",
   "execution_count": null,
   "metadata": {
    "colab": {
     "autoexec": {
      "startup": false,
      "wait_interval": 0
     },
     "base_uri": "https://localhost:8080/",
     "height": 34,
     "output_extras": [
      {
       "item_id": 1
      }
     ]
    },
    "colab_type": "code",
    "collapsed": true,
    "executionInfo": {
     "elapsed": 278,
     "status": "ok",
     "timestamp": 1517156825496,
     "user": {
      "displayName": "Zhijie Wang",
      "photoUrl": "//lh5.googleusercontent.com/-kNZDUSH7O3U/AAAAAAAAAAI/AAAAAAAAN6g/5jtuCr0x820/s50-c-k-no/photo.jpg",
      "userId": "107668855014477680901"
     },
     "user_tz": 480
    },
    "id": "a810mItVPHI6",
    "outputId": "b8e43c04-ed7c-46b6-9955-84722c5e4c17"
   },
   "outputs": [],
   "source": [
    "# Delete unnecessary data to free memories\n",
    "del df,temp\n",
    "acc=pre=rec=[]\n",
    "gc.collect()"
   ]
  },
  {
   "cell_type": "markdown",
   "metadata": {
    "colab_type": "text",
    "id": "X-bJOZ2Ztk51"
   },
   "source": [
    "# Problem(G) Naive Bayes Rule"
   ]
  },
  {
   "cell_type": "code",
   "execution_count": null,
   "metadata": {
    "colab": {
     "autoexec": {
      "startup": false,
      "wait_interval": 0
     },
     "base_uri": "https://localhost:8080/",
     "height": 1765,
     "output_extras": [
      {
       "item_id": 1
      },
      {
       "item_id": 2
      },
      {
       "item_id": 3
      },
      {
       "item_id": 4
      },
      {
       "item_id": 5
      },
      {
       "item_id": 6
      }
     ]
    },
    "colab_type": "code",
    "collapsed": true,
    "executionInfo": {
     "elapsed": 1143,
     "status": "ok",
     "timestamp": 1517185991623,
     "user": {
      "displayName": "Zhijie Wang",
      "photoUrl": "//lh5.googleusercontent.com/-kNZDUSH7O3U/AAAAAAAAAAI/AAAAAAAAN6g/5jtuCr0x820/s50-c-k-no/photo.jpg",
      "userId": "107668855014477680901"
     },
     "user_tz": 480
    },
    "id": "YPpTUR9vtmb2",
    "outputId": "41bb6a9e-5e82-4e57-da41-cb1784b4cd36",
    "scrolled": true
   },
   "outputs": [],
   "source": [
    "#Train_lsi negative\n",
    "#https://stackoverflow.com/questions/24169238/dealing-with-negative-values-in-sklearn-multinomialnb\n",
    "clf = MultinomialNB()\n",
    "clf.fit(train_NMF, train_label)\n",
    "clf_predicted = clf.predict(test_NMF)\n",
    "\n",
    "#roc\n",
    "label = 'ROC curve for Naive Bayes   (area = %0.2f)'\n",
    "predicted_score = clf.predict_proba(test_NMF)\n",
    "roc_plot(test_label,predicted_score[:,1],label)\n",
    "\n",
    "#stats\n",
    "stats(clf_predicted,test_label,classes,\"NB\")\n",
    "\n",
    "#confusion matrix\n",
    "cnf_matrix = confusion_matrix(clf_predicted,test_label)\n",
    "np.set_printoptions(precision=4)\n",
    "\n",
    "# Plot non-normalized confusion matrix\n",
    "plt.figure()\n",
    "plot_confusion_matrix(cnf_matrix, classes=classes,\n",
    "                      title='Confusion matrix, without normalization')\n",
    "plt.show()\n",
    "\n",
    "plt.figure()\n",
    "plot_confusion_matrix(cnf_matrix, classes=classes,normalize=True,\n",
    "                      title='Confusion matrix, with normalization')\n",
    "plt.show()"
   ]
  },
  {
   "cell_type": "markdown",
   "metadata": {
    "colab_type": "text",
    "id": "n5_9xXPW8nec"
   },
   "source": [
    "# Problem (H) Logistic Regression"
   ]
  },
  {
   "cell_type": "markdown",
   "metadata": {
    "colab_type": "text",
    "id": "vuD_9n4jPAnQ"
   },
   "source": []
  },
  {
   "cell_type": "code",
   "execution_count": null,
   "metadata": {
    "colab": {
     "autoexec": {
      "startup": false,
      "wait_interval": 0
     },
     "base_uri": "https://localhost:8080/",
     "height": 1782,
     "output_extras": [
      {
       "item_id": 1
      },
      {
       "item_id": 2
      },
      {
       "item_id": 3
      },
      {
       "item_id": 4
      },
      {
       "item_id": 5
      },
      {
       "item_id": 6
      }
     ]
    },
    "colab_type": "code",
    "collapsed": true,
    "executionInfo": {
     "elapsed": 1126,
     "status": "ok",
     "timestamp": 1517186262824,
     "user": {
      "displayName": "Zhijie Wang",
      "photoUrl": "//lh5.googleusercontent.com/-kNZDUSH7O3U/AAAAAAAAAAI/AAAAAAAAN6g/5jtuCr0x820/s50-c-k-no/photo.jpg",
      "userId": "107668855014477680901"
     },
     "user_tz": 480
    },
    "id": "hlnc5JAnPAS8",
    "outputId": "6911d9d7-d138-423d-fba4-5fb3761e4174",
    "scrolled": true
   },
   "outputs": [],
   "source": [
    "from sklearn import linear_model\n",
    "clf = linear_model.LogisticRegression()\n",
    "clf.fit(train_lsi,train_label)\n",
    "predicted = clf.predict(test_lsi)\n",
    "\n",
    "#roc\n",
    "label = 'ROC curve for Linear Regression   (area = %0.2f)'\n",
    "predicted_score = clf.predict_proba(test_lsi)\n",
    "roc_plot(test_label,predicted_score[:,1],label)\n",
    "\n",
    "#stats\n",
    "stats(predicted,test_label,classes,\"Linear Regression\")\n",
    "\n",
    "#confusion matrix\n",
    "cnf_matrix = confusion_matrix(predicted,test_label)\n",
    "np.set_printoptions(precision=4)\n",
    "\n",
    "# Plot non-normalized confusion matrix\n",
    "plt.figure()\n",
    "plot_confusion_matrix(cnf_matrix, classes=classes,\n",
    "                      title='Confusion matrix, without normalization')\n",
    "plt.show()\n",
    "\n",
    "plt.figure()\n",
    "plot_confusion_matrix(cnf_matrix, classes=classes,normalize=True,\n",
    "                      title='Confusion matrix, without normalization')\n",
    "plt.show()"
   ]
  },
  {
   "cell_type": "markdown",
   "metadata": {
    "colab_type": "text",
    "id": "F-8V9KUr-yBP"
   },
   "source": [
    "## L1 norm Logistic"
   ]
  },
  {
   "cell_type": "code",
   "execution_count": null,
   "metadata": {
    "colab": {
     "autoexec": {
      "startup": false,
      "wait_interval": 0
     },
     "base_uri": "https://localhost:8080/",
     "height": 1725,
     "output_extras": [
      {
       "item_id": 1
      },
      {
       "item_id": 2
      },
      {
       "item_id": 3
      },
      {
       "item_id": 4
      },
      {
       "item_id": 5
      }
     ]
    },
    "colab_type": "code",
    "collapsed": true,
    "executionInfo": {
     "elapsed": 6211,
     "status": "ok",
     "timestamp": 1517184214628,
     "user": {
      "displayName": "Zhijie Wang",
      "photoUrl": "//lh5.googleusercontent.com/-kNZDUSH7O3U/AAAAAAAAAAI/AAAAAAAAN6g/5jtuCr0x820/s50-c-k-no/photo.jpg",
      "userId": "107668855014477680901"
     },
     "user_tz": 480
    },
    "id": "qbSy8Xmt8pMy",
    "outputId": "aad97fa5-f999-4bec-d4f3-366fe22ffbed",
    "scrolled": false
   },
   "outputs": [],
   "source": [
    "from sklearn import linear_model\n",
    "clf = linear_model.LogisticRegression(C=1000,penalty='l1')\n",
    "clf.fit(train_NMF,train_label)\n",
    "predicted = clf.predict(test_NMF)\n",
    "\n",
    "#roc\n",
    "label = 'ROC curve for Linear Regression   (area = %0.2f)'\n",
    "predicted_score = clf.predict_proba(test_NMF)\n",
    "roc_plot(test_label,predicted_score[:,1],label)\n",
    "\n",
    "#stats\n",
    "stats(predicted,test_label,classes,\"Linear Regression\")\n",
    "\n",
    "#confusion matrix\n",
    "cnf_matrix = confusion_matrix(predicted,test_label)\n",
    "np.set_printoptions(precision=4)\n",
    "\n",
    "# Plot non-normalized confusion matrix\n",
    "plt.figure()\n",
    "plot_confusion_matrix(cnf_matrix, classes=classes,\n",
    "                      title='Confusion matrix, without normalization')\n",
    "plt.show()\n",
    "\n",
    "plt.figure()\n",
    "plot_confusion_matrix(cnf_matrix, classes=classes,normalize=True,\n",
    "                      title='Confusion matrix, without normalization')\n",
    "plt.show()"
   ]
  },
  {
   "cell_type": "markdown",
   "metadata": {
    "colab_type": "text",
    "id": "sJjJtp6q-2av"
   },
   "source": [
    "## L2 norm logistic"
   ]
  },
  {
   "cell_type": "code",
   "execution_count": null,
   "metadata": {
    "colab": {
     "autoexec": {
      "startup": false,
      "wait_interval": 0
     },
     "base_uri": "https://localhost:8080/",
     "height": 1725,
     "output_extras": [
      {
       "item_id": 1
      },
      {
       "item_id": 2
      },
      {
       "item_id": 3
      },
      {
       "item_id": 4
      },
      {
       "item_id": 5
      }
     ]
    },
    "colab_type": "code",
    "collapsed": true,
    "executionInfo": {
     "elapsed": 1291,
     "status": "ok",
     "timestamp": 1517184215956,
     "user": {
      "displayName": "Zhijie Wang",
      "photoUrl": "//lh5.googleusercontent.com/-kNZDUSH7O3U/AAAAAAAAAAI/AAAAAAAAN6g/5jtuCr0x820/s50-c-k-no/photo.jpg",
      "userId": "107668855014477680901"
     },
     "user_tz": 480
    },
    "id": "4cPXc-e-9SB7",
    "outputId": "45908db8-42ee-482a-a760-1c09f0e75c56"
   },
   "outputs": [],
   "source": [
    "clf = linear_model.LogisticRegression(C=1000, penalty='l2')\n",
    "clf.fit(train_lsi,train_label)\n",
    "predicted = clf.predict(test_lsi)\n",
    "\n",
    "#roc\n",
    "label = 'ROC curve for Linear Regression   (area = %0.2f)'\n",
    "predicted_score = clf.predict_proba(test_lsi)\n",
    "roc_plot(test_label,predicted_score[:,1],label)\n",
    "\n",
    "#stats\n",
    "stats(predicted,test_label,classes,\"Linear Regression\")\n",
    "\n",
    "#confusion matrix\n",
    "cnf_matrix = confusion_matrix(predicted,test_label)\n",
    "np.set_printoptions(precision=4)\n",
    "\n",
    "# Plot non-normalized confusion matrix\n",
    "plt.figure()\n",
    "plot_confusion_matrix(cnf_matrix, classes=classes,\n",
    "                      title='Confusion matrix, without normalization')\n",
    "plt.show()\n",
    "\n",
    "plt.figure()\n",
    "plot_confusion_matrix(cnf_matrix, classes=classes,normalize=True,\n",
    "                      title='Confusion matrix, without normalization')\n",
    "plt.show()"
   ]
  },
  {
   "cell_type": "markdown",
   "metadata": {
    "colab_type": "text",
    "id": "J52sM824ckjQ"
   },
   "source": [
    "# Problem(I) Multiclass Classification"
   ]
  },
  {
   "cell_type": "code",
   "execution_count": null,
   "metadata": {
    "colab": {
     "autoexec": {
      "startup": false,
      "wait_interval": 0
     }
    },
    "colab_type": "code",
    "collapsed": true,
    "id": "d-FWsERXcmS_"
   },
   "outputs": [],
   "source": [
    "class_multi = ['comp.sys.ibm.pc.hardware' , 'comp.sys.mac.hardware', 'misc.forsale','soc.religion.christian']\n",
    "train_multi = fetch_20newsgroups(subset='train',categories=class_multi,shuffle=True,random_state=42)\n",
    "test_multi = fetch_20newsgroups(subset='test',categories=class_multi,shuffle=True,random_state=42)\n",
    "\n",
    "train_multi_counts = data_vec.fit_transform(train_multi.data)\n",
    "train_multi_tfidf = tfidf_transformer.fit_transform(train_multi_counts)\n",
    "train_multi_lsi = svd.fit_transform(train_multi_tfidf)\n",
    "train_multi_NMF = modleNMF.fit_transform(train_multi_tfidf)\n",
    "train_multi_label = (train_multi.target[:]>=4)\n",
    "\n",
    "test_multi_counts = data_vec.transform(test_multi.data)\n",
    "test_multi_tfidf = tfidf_transformer.transform(test_multi_counts)\n",
    "test_multi_lsi = svd.transform(test_multi_tfidf)\n",
    "test_multi_NMF = modleNMF.transform(test_multi_tfidf)\n",
    "test_multi_label = (test_multi.target[:]>=4)"
   ]
  },
  {
   "cell_type": "markdown",
   "metadata": {
    "colab_type": "text",
    "id": "TuSfiqveKbCu"
   },
   "source": [
    "## Multi - Naive Bayes"
   ]
  },
  {
   "cell_type": "code",
   "execution_count": null,
   "metadata": {
    "colab": {
     "autoexec": {
      "startup": false,
      "wait_interval": 0
     }
    },
    "colab_type": "code",
    "collapsed": true,
    "id": "VRcKfXJ0S4ne"
   },
   "outputs": [],
   "source": [
    "clf = MultinomialNB().fit(train_multi_NMF,train_multi.target)\n",
    "predicted = clf.predict(test_multi_NMF)"
   ]
  },
  {
   "cell_type": "code",
   "execution_count": null,
   "metadata": {
    "colab": {
     "autoexec": {
      "startup": false,
      "wait_interval": 0
     },
     "base_uri": "https://localhost:8080/",
     "height": 1372,
     "output_extras": [
      {
       "item_id": 1
      },
      {
       "item_id": 2
      },
      {
       "item_id": 3
      },
      {
       "item_id": 4
      }
     ]
    },
    "colab_type": "code",
    "collapsed": true,
    "executionInfo": {
     "elapsed": 926,
     "status": "ok",
     "timestamp": 1517184255005,
     "user": {
      "displayName": "Zhijie Wang",
      "photoUrl": "//lh5.googleusercontent.com/-kNZDUSH7O3U/AAAAAAAAAAI/AAAAAAAAN6g/5jtuCr0x820/s50-c-k-no/photo.jpg",
      "userId": "107668855014477680901"
     },
     "user_tz": 480
    },
    "id": "kwNlSt6GMC10",
    "outputId": "c3021b8f-9035-4063-b45b-ff42a1f59aed"
   },
   "outputs": [],
   "source": [
    "#stats\n",
    "stats(test_multi.target,predicted,class_multi,\"Linear Regression\")\n",
    "\n",
    "#confusion matrix\n",
    "cnf_matrix = confusion_matrix(predicted,test_multi.target)\n",
    "np.set_printoptions(precision=4)\n",
    "\n",
    "# Plot non-normalized confusion matrix\n",
    "plt.figure()\n",
    "plot_confusion_matrix(cnf_matrix, classes=class_multi,normalize=False,\n",
    "                      title='Confusion matrix, without normalization')\n",
    "plt.show()\n",
    "\n",
    "plt.figure()\n",
    "plot_confusion_matrix(cnf_matrix, classes=class_multi,normalize=True,\n",
    "                      title='Confusion matrix, with normalization')\n",
    "plt.show()"
   ]
  },
  {
   "cell_type": "markdown",
   "metadata": {
    "colab_type": "text",
    "id": "hSwqhpQWKcBg"
   },
   "source": [
    "## Multi - SVM"
   ]
  },
  {
   "cell_type": "code",
   "execution_count": null,
   "metadata": {
    "colab": {
     "autoexec": {
      "startup": false,
      "wait_interval": 0
     },
     "base_uri": "https://localhost:8080/",
     "height": 1352,
     "output_extras": [
      {
       "item_id": 1
      },
      {
       "item_id": 2
      },
      {
       "item_id": 3
      },
      {
       "item_id": 4
      }
     ]
    },
    "colab_type": "code",
    "collapsed": true,
    "executionInfo": {
     "elapsed": 1388,
     "status": "ok",
     "timestamp": 1517184261845,
     "user": {
      "displayName": "Zhijie Wang",
      "photoUrl": "//lh5.googleusercontent.com/-kNZDUSH7O3U/AAAAAAAAAAI/AAAAAAAAN6g/5jtuCr0x820/s50-c-k-no/photo.jpg",
      "userId": "107668855014477680901"
     },
     "user_tz": 480
    },
    "id": "LYrZyl5AXNJ9",
    "outputId": "382ac7da-7941-40e6-c446-ca2877453e0a"
   },
   "outputs": [],
   "source": [
    "clf_ovo = OneVsOneClassifier(LinearSVC(C=1000,random_state=42)).fit(train_multi_lsi,train_multi.target)\n",
    "predicted = clf_ovo.predict(test_multi_lsi)\n",
    "\n",
    "#stats\n",
    "stats(test_multi.target,predicted,class_multi,\"One Vs. One Classification\")\n",
    "\n",
    "#confusion matrix\n",
    "cnf_matrix = confusion_matrix(predicted,test_multi.target)\n",
    "np.set_printoptions(precision=4)\n",
    "\n",
    "# Plot non-normalized confusion matrix\n",
    "plt.figure()\n",
    "plot_confusion_matrix(cnf_matrix, classes=class_multi,normalize=False,\n",
    "                      title='Confusion matrix, without normalization')\n",
    "plt.show()\n",
    "\n",
    "plt.figure()\n",
    "plot_confusion_matrix(cnf_matrix, classes=class_multi,normalize=True,\n",
    "                      title='Confusion matrix, with normalization')\n",
    "plt.show()"
   ]
  },
  {
   "cell_type": "code",
   "execution_count": null,
   "metadata": {
    "colab": {
     "autoexec": {
      "startup": false,
      "wait_interval": 0
     },
     "base_uri": "https://localhost:8080/",
     "height": 1352,
     "output_extras": [
      {
       "item_id": 1
      },
      {
       "item_id": 2
      },
      {
       "item_id": 3
      },
      {
       "item_id": 4
      }
     ]
    },
    "colab_type": "code",
    "collapsed": true,
    "executionInfo": {
     "elapsed": 1200,
     "status": "ok",
     "timestamp": 1517184296328,
     "user": {
      "displayName": "Zhijie Wang",
      "photoUrl": "//lh5.googleusercontent.com/-kNZDUSH7O3U/AAAAAAAAAAI/AAAAAAAAN6g/5jtuCr0x820/s50-c-k-no/photo.jpg",
      "userId": "107668855014477680901"
     },
     "user_tz": 480
    },
    "id": "tHf9rBs3X06T",
    "outputId": "3d6140e4-b52a-47f7-b6d1-a0b66da56763"
   },
   "outputs": [],
   "source": [
    "clf_ovr = OneVsRestClassifier(LinearSVC(C=100,random_state=42)).fit(train_multi_lsi,train_multi.target)\n",
    "predicted = clf_ovr.predict(test_multi_lsi)\n",
    "\n",
    "#stats\n",
    "stats(test_multi.target,predicted,class_multi,\"One Vs. Rest Classification\")\n",
    "\n",
    "#confusion matrix\n",
    "cnf_matrix = confusion_matrix(predicted,test_multi.target)\n",
    "np.set_printoptions(precision=4)\n",
    "\n",
    "# Plot non-normalized confusion matrix\n",
    "plt.figure()\n",
    "plot_confusion_matrix(cnf_matrix, classes=class_multi,normalize=False,\n",
    "                      title='Confusion matrix, without normalization')\n",
    "plt.show()\n",
    "\n",
    "plt.figure()\n",
    "plot_confusion_matrix(cnf_matrix, classes=class_multi,normalize=True,\n",
    "                      title='Confusion matrix, with normalization')\n",
    "plt.show()"
   ]
  }
 ],
 "metadata": {
  "colab": {
   "collapsed_sections": [
    "g5cfhCiaP658"
   ],
   "default_view": {},
   "name": "EE219_Project1.ipynb",
   "provenance": [],
   "version": "0.3.2",
   "views": {}
  },
  "kernelspec": {
   "display_name": "Python 3",
   "language": "python",
   "name": "python3"
  },
  "language_info": {
   "codemirror_mode": {
    "name": "ipython",
    "version": 3
   },
   "file_extension": ".py",
   "mimetype": "text/x-python",
   "name": "python",
   "nbconvert_exporter": "python",
   "pygments_lexer": "ipython3",
   "version": "3.6.3"
  }
 },
 "nbformat": 4,
 "nbformat_minor": 1
}
